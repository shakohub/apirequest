{
 "cells": [
  {
   "cell_type": "code",
   "execution_count": 1,
   "metadata": {},
   "outputs": [],
   "source": [
    "import requests\n",
    "import json\n",
    "import pandas as pd\n",
    "import numpy as np"
   ]
  },
  {
   "cell_type": "code",
   "execution_count": 2,
   "metadata": {},
   "outputs": [],
   "source": [
    "with open(\"brewDB_key.txt\") as file:\n",
    "    api_key = file.read()"
   ]
  },
  {
   "cell_type": "code",
   "execution_count": 3,
   "metadata": {},
   "outputs": [],
   "source": [
    "url = r\"https://sandbox-api.brewerydb.com/v2/breweries/?key=\"\n"
   ]
  },
  {
   "cell_type": "code",
   "execution_count": 4,
   "metadata": {},
   "outputs": [
    {
     "data": {
      "text/plain": [
       "200"
      ]
     },
     "execution_count": 4,
     "metadata": {},
     "output_type": "execute_result"
    }
   ],
   "source": [
    "response = requests.get(url + api_key)\n",
    "response.status_code"
   ]
  },
  {
   "cell_type": "code",
   "execution_count": 5,
   "metadata": {},
   "outputs": [],
   "source": [
    "brewerydata = response.json()"
   ]
  },
  {
   "cell_type": "code",
   "execution_count": 6,
   "metadata": {},
   "outputs": [
    {
     "data": {
      "text/plain": [
       "dict"
      ]
     },
     "execution_count": 6,
     "metadata": {},
     "output_type": "execute_result"
    }
   ],
   "source": [
    "type(brewerydata)"
   ]
  },
  {
   "cell_type": "code",
   "execution_count": 7,
   "metadata": {},
   "outputs": [
    {
     "data": {
      "text/plain": [
       "dict_keys(['currentPage', 'numberOfPages', 'totalResults', 'data', 'status'])"
      ]
     },
     "execution_count": 7,
     "metadata": {},
     "output_type": "execute_result"
    }
   ],
   "source": [
    "brewerydata.keys()"
   ]
  },
  {
   "cell_type": "code",
   "execution_count": 8,
   "metadata": {},
   "outputs": [
    {
     "data": {
      "text/plain": [
       "1"
      ]
     },
     "execution_count": 8,
     "metadata": {},
     "output_type": "execute_result"
    }
   ],
   "source": [
    "brewerydata['currentPage']"
   ]
  },
  {
   "cell_type": "code",
   "execution_count": 9,
   "metadata": {},
   "outputs": [
    {
     "data": {
      "text/plain": [
       "1"
      ]
     },
     "execution_count": 9,
     "metadata": {},
     "output_type": "execute_result"
    }
   ],
   "source": [
    "brewerydata['numberOfPages']"
   ]
  },
  {
   "cell_type": "code",
   "execution_count": 10,
   "metadata": {},
   "outputs": [
    {
     "data": {
      "text/plain": [
       "19"
      ]
     },
     "execution_count": 10,
     "metadata": {},
     "output_type": "execute_result"
    }
   ],
   "source": [
    "brewerydata['totalResults']"
   ]
  },
  {
   "cell_type": "code",
   "execution_count": 11,
   "metadata": {},
   "outputs": [
    {
     "data": {
      "text/plain": [
       "[{'id': 'BznahA',\n",
       "  'name': 'Anheuser-Busch InBev',\n",
       "  'nameShortDisplay': 'Anheuser-Busch InBev',\n",
       "  'description': \"Anheuser-Busch operates 12 breweries in the United States, 14 in China and one in the United Kingdom. Anheuser-Busch's operations and resources are focused on adding to life's enjoyment not only through the responsible consumption of beer by adults, but through theme park entertainment and packaging.  In the United States, the company holds a 48.5 percent share of U.S. beer sales. Worldwide, Anheuser-Busch's beer sales volume was 128.4 million barrels in 2007.  The St. Louis-based company's subsidiaries include one of the largest U.S. manufacturers of aluminum beverage containers and one of the world's largest recyclers of aluminum beverage cans. Anheuser-Busch also has interests in malt production, rice milling, real estate development, turf farming, metalized and paper label printing, bottle production and transportation services.\",\n",
       "  'website': 'http://www.anheuser-busch.com/',\n",
       "  'established': '1852',\n",
       "  'isOrganic': 'N',\n",
       "  'images': {'icon': 'https://brewerydb-images.s3.amazonaws.com/brewery/BznahA/upload_0FkKKl-icon.png',\n",
       "   'medium': 'https://brewerydb-images.s3.amazonaws.com/brewery/BznahA/upload_0FkKKl-medium.png',\n",
       "   'large': 'https://brewerydb-images.s3.amazonaws.com/brewery/BznahA/upload_0FkKKl-large.png',\n",
       "   'squareMedium': 'https://brewerydb-images.s3.amazonaws.com/brewery/BznahA/upload_0FkKKl-squareMedium.png',\n",
       "   'squareLarge': 'https://brewerydb-images.s3.amazonaws.com/brewery/BznahA/upload_0FkKKl-squareLarge.png'},\n",
       "  'status': 'verified',\n",
       "  'statusDisplay': 'Verified',\n",
       "  'createDate': '2012-01-03 02:41:44',\n",
       "  'updateDate': '2018-11-02 02:15:01',\n",
       "  'isMassOwned': 'Y',\n",
       "  'isInBusiness': 'Y',\n",
       "  'isVerified': 'N'},\n",
       " {'id': 'rd8LRZ',\n",
       "  'name': 'Boston Beer Company (Samuel Adams)',\n",
       "  'nameShortDisplay': 'Boston Beer Company (Samuel Adams)',\n",
       "  'isOrganic': 'N',\n",
       "  'status': 'new_unverified',\n",
       "  'statusDisplay': 'New, Unverified',\n",
       "  'createDate': '2018-12-09 18:05:53',\n",
       "  'updateDate': '2018-12-09 18:05:53',\n",
       "  'isMassOwned': 'N',\n",
       "  'isInBusiness': 'Y',\n",
       "  'isVerified': 'N'},\n",
       " {'id': 'IImUD9',\n",
       "  'name': 'Breckenridge Brewery',\n",
       "  'nameShortDisplay': 'Breckenridge',\n",
       "  'description': 'Breckenridge Brewery was founded in 1990 in Breckenridge, Colorado. In the past two plus decades Breckenridge Brewery has grown from a small 3,000-barrels-a-year brewpub to one of the most successful craft beer and restaurant companies in the nation. It now handcrafts more than 70,000 barrels of fresh beer annually and owns and operates five brewpubs and ale houses in the state of Colorado. For more information visit www.breckbrew.com.',\n",
       "  'website': 'http://www.breckbrew.com/',\n",
       "  'established': '1990',\n",
       "  'isOrganic': 'N',\n",
       "  'images': {'icon': 'https://brewerydb-images.s3.amazonaws.com/brewery/IImUD9/upload_jzk0J2-icon.png',\n",
       "   'medium': 'https://brewerydb-images.s3.amazonaws.com/brewery/IImUD9/upload_jzk0J2-medium.png',\n",
       "   'large': 'https://brewerydb-images.s3.amazonaws.com/brewery/IImUD9/upload_jzk0J2-large.png',\n",
       "   'squareMedium': 'https://brewerydb-images.s3.amazonaws.com/brewery/IImUD9/upload_jzk0J2-squareMedium.png',\n",
       "   'squareLarge': 'https://brewerydb-images.s3.amazonaws.com/brewery/IImUD9/upload_jzk0J2-squareLarge.png'},\n",
       "  'status': 'verified',\n",
       "  'statusDisplay': 'Verified',\n",
       "  'createDate': '2012-01-03 02:41:48',\n",
       "  'updateDate': '2018-11-02 02:15:01',\n",
       "  'isMassOwned': 'Y',\n",
       "  'isInBusiness': 'Y',\n",
       "  'isVerified': 'N'},\n",
       " {'id': 'uM2jeT',\n",
       "  'name': 'Brouwerij De Leite',\n",
       "  'nameShortDisplay': 'Brouwerij De Leite',\n",
       "  'description': \"Brewing since 1997.  Officially transformed in 'brewery De Leite in 2008.  started with a brewingkettle of 8,5 HL.  now ( 2011) expanding to a brewing kettle of 60 HL.  Only brewing once a month.\",\n",
       "  'website': 'http://www.deleite.be/',\n",
       "  'established': '2008',\n",
       "  'isOrganic': 'N',\n",
       "  'status': 'verified',\n",
       "  'statusDisplay': 'Verified',\n",
       "  'createDate': '2012-01-03 02:41:49',\n",
       "  'updateDate': '2018-11-02 02:15:01',\n",
       "  'isMassOwned': 'N',\n",
       "  'isInBusiness': 'Y',\n",
       "  'isVerified': 'N'},\n",
       " {'id': 'p3YrOa',\n",
       "  'name': 'Dock Street Brewery',\n",
       "  'nameShortDisplay': 'Dock Street',\n",
       "  'description': \"Founded in 1985, Dock Street Brewing Co. was the first microbrewery in Philadelphia and one of the first in the country.  Today, Dock Street is a small artisanal brewery that finds its home in a magnificent historic firehouse on the corner of 50th and Baltimore Ave., in a progressive, eclectic and counter-culture neighborhood that reflects Dock Street's philosophy.  Dock Street has a rich brewing history, a reputation for exceptional quality, innovation and brewing distinctive beers.  Dock Street continues to experiment and push the boundaries of the movement it helped build.\",\n",
       "  'website': 'http://www.dockstreetbeer.com',\n",
       "  'established': '1985',\n",
       "  'mailingListUrl': 'http://www.dockstreetbeer.com/Contact.html',\n",
       "  'isOrganic': 'N',\n",
       "  'images': {'icon': 'https://brewerydb-images.s3.amazonaws.com/brewery/p3YrOa/upload_yOXpDJ-icon.png',\n",
       "   'medium': 'https://brewerydb-images.s3.amazonaws.com/brewery/p3YrOa/upload_yOXpDJ-medium.png',\n",
       "   'large': 'https://brewerydb-images.s3.amazonaws.com/brewery/p3YrOa/upload_yOXpDJ-large.png',\n",
       "   'squareMedium': 'https://brewerydb-images.s3.amazonaws.com/brewery/p3YrOa/upload_yOXpDJ-squareMedium.png',\n",
       "   'squareLarge': 'https://brewerydb-images.s3.amazonaws.com/brewery/p3YrOa/upload_yOXpDJ-squareLarge.png'},\n",
       "  'status': 'verified',\n",
       "  'statusDisplay': 'Verified',\n",
       "  'createDate': '2012-01-03 02:41:52',\n",
       "  'updateDate': '2018-11-02 02:15:01',\n",
       "  'isMassOwned': 'N',\n",
       "  'isInBusiness': 'Y',\n",
       "  'isVerified': 'N'},\n",
       " {'id': 'HaPdSL',\n",
       "  'name': 'Guinness',\n",
       "  'nameShortDisplay': 'Guinness',\n",
       "  'description': \"St. James's Gate Brewery (Irish: Grúdlann Gheata Shan Séamuis) is a brewery founded in 1759 in Dublin, Ireland by Arthur Guinness. The company is now a part of Diageo, a company formed via the merger of Guinness  and Grand Metropolitan in 1997. The main product produced at the brewery is Guinness Draft.\\r\\n\\r\\nLeased for 9,000 years in 1759 by Arthur Guinness at £45 per year, St. James's Gate has been the home of Guinness ever since. It became the largest brewery in Ireland in 1838, and was the largest in the world in 1914, covering 64 acres. Although no longer the largest brewery in the world, it is still the largest brewer of stout in the world. During the 19th and early 20th centuries, the brewery owned most of the buildings in the surrounding area, including many streets of housing for brewery employees, and offices associated with the brewery. The brewery also made all of its own power using its own power plant.\\r\\n\\r\\nThere is an attached exhibition on the 250-year-old history of Guinness, called the Guinness Storehouse.\",\n",
       "  'website': 'http://www.guinness.com/',\n",
       "  'established': '1759',\n",
       "  'isOrganic': 'N',\n",
       "  'images': {'icon': 'https://brewerydb-images.s3.amazonaws.com/brewery/HaPdSL/upload_b3rzyZ-icon.png',\n",
       "   'medium': 'https://brewerydb-images.s3.amazonaws.com/brewery/HaPdSL/upload_b3rzyZ-medium.png',\n",
       "   'large': 'https://brewerydb-images.s3.amazonaws.com/brewery/HaPdSL/upload_b3rzyZ-large.png',\n",
       "   'squareMedium': 'https://brewerydb-images.s3.amazonaws.com/brewery/HaPdSL/upload_b3rzyZ-squareMedium.png',\n",
       "   'squareLarge': 'https://brewerydb-images.s3.amazonaws.com/brewery/HaPdSL/upload_b3rzyZ-squareLarge.png'},\n",
       "  'status': 'verified',\n",
       "  'statusDisplay': 'Verified',\n",
       "  'createDate': '2012-01-03 02:41:56',\n",
       "  'updateDate': '2018-11-02 02:15:01',\n",
       "  'isMassOwned': 'Y',\n",
       "  'isInBusiness': 'Y',\n",
       "  'isVerified': 'N'},\n",
       " {'id': 'DMU2Kf',\n",
       "  'name': 'Harmon Brewing Company',\n",
       "  'nameShortDisplay': 'Harmon',\n",
       "  'description': \"This 15 barrel microbrewery and restaurant is a perfect place for large groups and families to gather. Located in the Tacoma's downtown University and Museum District - it's a favorite place for locals and tourists alike. The comfortable and coziness of the historic building, decorated to look and feel like a mountain lodge, features a fabulous sampling of northwest food, and of course you will always find Harmon's 5 flagship ales, along with several seasonal ales, on draught for you to enjoy.\",\n",
       "  'website': 'http://harmonbrewingco.com/',\n",
       "  'isOrganic': 'N',\n",
       "  'images': {'icon': 'https://brewerydb-images.s3.amazonaws.com/brewery/DMU2Kf/upload_w087UO-icon.png',\n",
       "   'medium': 'https://brewerydb-images.s3.amazonaws.com/brewery/DMU2Kf/upload_w087UO-medium.png',\n",
       "   'large': 'https://brewerydb-images.s3.amazonaws.com/brewery/DMU2Kf/upload_w087UO-large.png',\n",
       "   'squareMedium': 'https://brewerydb-images.s3.amazonaws.com/brewery/DMU2Kf/upload_w087UO-squareMedium.png',\n",
       "   'squareLarge': 'https://brewerydb-images.s3.amazonaws.com/brewery/DMU2Kf/upload_w087UO-squareLarge.png'},\n",
       "  'status': 'verified',\n",
       "  'statusDisplay': 'Verified',\n",
       "  'createDate': '2012-01-03 02:41:57',\n",
       "  'updateDate': '2018-11-02 02:15:01',\n",
       "  'isMassOwned': 'N',\n",
       "  'isInBusiness': 'Y',\n",
       "  'isVerified': 'N'},\n",
       " {'id': 'p1tFbP',\n",
       "  'name': 'Jackalope Brewing Company',\n",
       "  'nameShortDisplay': 'Jackalope',\n",
       "  'description': \"Jackalope Brewing Company is owned by Bailey Spaulding and Robyn Virball, two young ingénues with an affection for beer. They met in September 2002 in the tiny Scottish village of St. Andrews, Scotland. Bailey was a Harvard student doing a semester abroad and Robyn was beginning undergrad at St. Andrews. They bonded over being put into the worst dorm for overseas orientation and teaching Danish people how to play beer pong. Though after three months Bailey went back to Cambridge, you can't break the bonds that are made when teaching Europeans drinking games and a true friendship was born. During the next eight years, they both graduated, Bailey went off to Vanderbilt Law School, and Robyn entered the working world, but both thought they were meant for much bigger and more alcoholic things.\",\n",
       "  'website': 'http://www.jackalopebrew.com/',\n",
       "  'established': '2011',\n",
       "  'isOrganic': 'N',\n",
       "  'images': {'icon': 'https://brewerydb-images.s3.amazonaws.com/brewery/p1tFbP/upload_FgvJzY-icon.png',\n",
       "   'medium': 'https://brewerydb-images.s3.amazonaws.com/brewery/p1tFbP/upload_FgvJzY-medium.png',\n",
       "   'large': 'https://brewerydb-images.s3.amazonaws.com/brewery/p1tFbP/upload_FgvJzY-large.png',\n",
       "   'squareMedium': 'https://brewerydb-images.s3.amazonaws.com/brewery/p1tFbP/upload_FgvJzY-squareMedium.png',\n",
       "   'squareLarge': 'https://brewerydb-images.s3.amazonaws.com/brewery/p1tFbP/upload_FgvJzY-squareLarge.png'},\n",
       "  'status': 'verified',\n",
       "  'statusDisplay': 'Verified',\n",
       "  'createDate': '2012-01-03 02:41:58',\n",
       "  'updateDate': '2018-11-02 02:15:01',\n",
       "  'isMassOwned': 'N',\n",
       "  'isInBusiness': 'Y',\n",
       "  'isVerified': 'N'},\n",
       " {'id': 'nLsoQ9',\n",
       "  'name': 'Lagunitas Brewing Company',\n",
       "  'nameShortDisplay': 'Lagunitas',\n",
       "  'description': \"From our earliest days of striving to make consistently good beer, and instead making beer that ranged from vile, to barely drinkable, to wonderful, to elegant, to questionable-at-best. From being castigated by our West Marin neighbors to finally suffering an 'eviction' by our West Marin septic system. From landing in the welcoming arms of Petaluma, and actually getting our beer into bottles, onto the streets, and into the hands of sympathatic beer geeks, to steadily losing less money each month. From all this and more, Lagunitas Brewing Company is emerging as a battle-tested brewery capable of making great beer out of goat's milk, brambles, and asphalt on the surface of the Moon, if need be.\\r\\n\\r\\nAs the poet once said, 'Where, but for the grace of God and the kindness of strangers, go I'. Where go we indeed, whatever that means.\",\n",
       "  'website': 'http://www.lagunitas.com/',\n",
       "  'established': '1993',\n",
       "  'isOrganic': 'N',\n",
       "  'images': {'icon': 'https://brewerydb-images.s3.amazonaws.com/brewery/nLsoQ9/upload_WqZkvw-icon.png',\n",
       "   'medium': 'https://brewerydb-images.s3.amazonaws.com/brewery/nLsoQ9/upload_WqZkvw-medium.png',\n",
       "   'large': 'https://brewerydb-images.s3.amazonaws.com/brewery/nLsoQ9/upload_WqZkvw-large.png',\n",
       "   'squareMedium': 'https://brewerydb-images.s3.amazonaws.com/brewery/nLsoQ9/upload_WqZkvw-squareMedium.png',\n",
       "   'squareLarge': 'https://brewerydb-images.s3.amazonaws.com/brewery/nLsoQ9/upload_WqZkvw-squareLarge.png'},\n",
       "  'status': 'verified',\n",
       "  'statusDisplay': 'Verified',\n",
       "  'createDate': '2012-01-03 02:42:00',\n",
       "  'updateDate': '2018-11-02 02:15:01',\n",
       "  'isMassOwned': 'Y',\n",
       "  'isInBusiness': 'Y',\n",
       "  'isVerified': 'N'},\n",
       " {'id': '941OaA',\n",
       "  'name': 'Last Name Brewing',\n",
       "  'nameShortDisplay': 'Dale Bros.',\n",
       "  'description': 'Last Name Brewing is a craft brewery and tap room in Upland, CA. We brew the kind of beer we like to drink. Beer that’s smooth, balanced and that pairs up well with food. Turns out other people like to drink it, too. Sometimes, they even like it enough to give it a gold medal (or two.) We’re not brewing beer to put trophies on our mantels, but it’s nice to be appreciated.',\n",
       "  'website': 'http://www.lastnamebrewing.com/',\n",
       "  'established': '2003',\n",
       "  'isOrganic': 'N',\n",
       "  'images': {'icon': 'https://brewerydb-images.s3.amazonaws.com/brewery/941OaA/upload_bqCPwM-icon.png',\n",
       "   'medium': 'https://brewerydb-images.s3.amazonaws.com/brewery/941OaA/upload_bqCPwM-medium.png',\n",
       "   'large': 'https://brewerydb-images.s3.amazonaws.com/brewery/941OaA/upload_bqCPwM-large.png',\n",
       "   'squareMedium': 'https://brewerydb-images.s3.amazonaws.com/brewery/941OaA/upload_bqCPwM-squareMedium.png',\n",
       "   'squareLarge': 'https://brewerydb-images.s3.amazonaws.com/brewery/941OaA/upload_bqCPwM-squareLarge.png'},\n",
       "  'status': 'verified',\n",
       "  'statusDisplay': 'Verified',\n",
       "  'createDate': '2012-01-03 02:41:52',\n",
       "  'updateDate': '2018-11-02 02:15:01',\n",
       "  'isMassOwned': 'N',\n",
       "  'isInBusiness': 'Y',\n",
       "  'isVerified': 'N'},\n",
       " {'id': 'yX6twV',\n",
       "  'name': 'Laughing Dog Brewing',\n",
       "  'nameShortDisplay': 'Laughing Dog',\n",
       "  'description': 'At Laughing Dog Brewing, what began with a dream for brews with more hops has turned into an insatiable desire to craft beers of all flavors, with a focus on quality, purity, and fun. Today, Laughing Dog brews has brewed over 15 distinct beers, including seasonals like our Huckleberry Ale and Winter Ale, and our award-winning IPA\\'s and Stouts. But despite our success and growth, our motto remains the same as the day we started, to create... \"Fetchingly Good Beer\"!',\n",
       "  'website': 'http://www.laughingdogbrewing.com/',\n",
       "  'established': '2005',\n",
       "  'isOrganic': 'N',\n",
       "  'images': {'icon': 'https://brewerydb-images.s3.amazonaws.com/brewery/yX6twV/upload_vEpXWl-icon.png',\n",
       "   'medium': 'https://brewerydb-images.s3.amazonaws.com/brewery/yX6twV/upload_vEpXWl-medium.png',\n",
       "   'large': 'https://brewerydb-images.s3.amazonaws.com/brewery/yX6twV/upload_vEpXWl-large.png',\n",
       "   'squareMedium': 'https://brewerydb-images.s3.amazonaws.com/brewery/yX6twV/upload_vEpXWl-squareMedium.png',\n",
       "   'squareLarge': 'https://brewerydb-images.s3.amazonaws.com/brewery/yX6twV/upload_vEpXWl-squareLarge.png'},\n",
       "  'status': 'verified',\n",
       "  'statusDisplay': 'Verified',\n",
       "  'createDate': '2012-01-03 02:42:00',\n",
       "  'updateDate': '2018-11-02 02:15:01',\n",
       "  'isMassOwned': 'N',\n",
       "  'isInBusiness': 'Y',\n",
       "  'isVerified': 'N'},\n",
       " {'id': 'hGFVYy',\n",
       "  'name': 'Miller Brewing Company',\n",
       "  'nameShortDisplay': 'Miller',\n",
       "  'website': 'http://www.millercoors.com/',\n",
       "  'established': '1885',\n",
       "  'isOrganic': 'N',\n",
       "  'images': {'icon': 'https://brewerydb-images.s3.amazonaws.com/brewery/hGFVYy/upload_MwsqfU-icon.png',\n",
       "   'medium': 'https://brewerydb-images.s3.amazonaws.com/brewery/hGFVYy/upload_MwsqfU-medium.png',\n",
       "   'large': 'https://brewerydb-images.s3.amazonaws.com/brewery/hGFVYy/upload_MwsqfU-large.png',\n",
       "   'squareMedium': 'https://brewerydb-images.s3.amazonaws.com/brewery/hGFVYy/upload_MwsqfU-squareMedium.png',\n",
       "   'squareLarge': 'https://brewerydb-images.s3.amazonaws.com/brewery/hGFVYy/upload_MwsqfU-squareLarge.png'},\n",
       "  'status': 'verified',\n",
       "  'statusDisplay': 'Verified',\n",
       "  'createDate': '2015-06-17 18:29:34',\n",
       "  'updateDate': '2018-11-02 02:15:01',\n",
       "  'isMassOwned': 'Y',\n",
       "  'isInBusiness': 'Y',\n",
       "  'isVerified': 'N'},\n",
       " {'id': 'AqEUBQ',\n",
       "  'name': 'New Holland Brewing Company',\n",
       "  'nameShortDisplay': 'New Holland',\n",
       "  'description': 'New Holland Brewing Company’s deep roots in the craft industry go back to 1997. Our role as an integral member of the artisan approach is something we take seriously, yet engage lightheartedly.\\r\\n\\r\\nWe believe the art of craft lives in fostering rich experiences for our customers, through creating authentic beer, spirits and food while providing great service. Recognized for our creativity and artistry, our mission to improve the lives of craft consumers everywhere is seen in our diverse, balanced collection of beer and spirits.',\n",
       "  'website': 'http://newhollandbrew.com/',\n",
       "  'established': '1996',\n",
       "  'isOrganic': 'N',\n",
       "  'images': {'icon': 'https://brewerydb-images.s3.amazonaws.com/brewery/AqEUBQ/upload_0xEGxj-icon.png',\n",
       "   'medium': 'https://brewerydb-images.s3.amazonaws.com/brewery/AqEUBQ/upload_0xEGxj-medium.png',\n",
       "   'large': 'https://brewerydb-images.s3.amazonaws.com/brewery/AqEUBQ/upload_0xEGxj-large.png',\n",
       "   'squareMedium': 'https://brewerydb-images.s3.amazonaws.com/brewery/AqEUBQ/upload_0xEGxj-squareMedium.png',\n",
       "   'squareLarge': 'https://brewerydb-images.s3.amazonaws.com/brewery/AqEUBQ/upload_0xEGxj-squareLarge.png'},\n",
       "  'status': 'verified',\n",
       "  'statusDisplay': 'Verified',\n",
       "  'createDate': '2012-01-03 02:42:03',\n",
       "  'updateDate': '2018-11-02 02:15:01',\n",
       "  'isMassOwned': 'N',\n",
       "  'isInBusiness': 'Y',\n",
       "  'isVerified': 'N'},\n",
       " {'id': 'q6vJUK',\n",
       "  'name': 'Oskar Blues Brewery',\n",
       "  'nameShortDisplay': 'Oskar Blues',\n",
       "  'description': 'Oskar Blues Brewery is part of the Oskar Blues Grill and Brew restaurant and was located in Lyons, Colorado, near the city of Boulder. The brewery is now in Longmont, CO - a much larger town just east of Lyons. Oskar Blues is unique in that it serves craft-brewed beer in cans, contrary to the normal practice of bottling micro brews. The brewery is owned by Dale Katechis, a native of Florence, Alabama who brought canned beer and southern fried foods together for an interesting twist on the micro-brew pub.',\n",
       "  'website': 'http://www.oskarblues.com/',\n",
       "  'established': '1997',\n",
       "  'isOrganic': 'N',\n",
       "  'images': {'icon': 'https://brewerydb-images.s3.amazonaws.com/brewery/q6vJUK/upload_wNi52r-icon.png',\n",
       "   'medium': 'https://brewerydb-images.s3.amazonaws.com/brewery/q6vJUK/upload_wNi52r-medium.png',\n",
       "   'large': 'https://brewerydb-images.s3.amazonaws.com/brewery/q6vJUK/upload_wNi52r-large.png',\n",
       "   'squareMedium': 'https://brewerydb-images.s3.amazonaws.com/brewery/q6vJUK/upload_wNi52r-squareMedium.png',\n",
       "   'squareLarge': 'https://brewerydb-images.s3.amazonaws.com/brewery/q6vJUK/upload_wNi52r-squareLarge.png'},\n",
       "  'status': 'verified',\n",
       "  'statusDisplay': 'Verified',\n",
       "  'createDate': '2012-01-03 02:42:05',\n",
       "  'updateDate': '2018-11-02 02:15:01',\n",
       "  'isMassOwned': 'N',\n",
       "  'isInBusiness': 'Y',\n",
       "  'isVerified': 'N'},\n",
       " {'id': '4F7QA9',\n",
       "  'name': 'Portsmouth Brewery',\n",
       "  'nameShortDisplay': 'Portsmouth',\n",
       "  'description': \"The Portsmouth Brewery, New Hampshire's first brewpub, was founded in 1991, four years after its sister company, the Northampton Brewery, opened in Western Massachusetts. Peter Egelston, Head Brewer in Northampton from 1987 until 1991, moved to Portsmouth to set up the new brewery here. (Egelston is now the sole proprietor of the Brewery.) \\r\\n\\r\\nThe brewing system consists of a custom made seven-barrel (210 gallons) JV Northwest brewhouse, two fourteen-barrel and three seven-barrel JV Northwest unitank (cylindroconical) fermenters, two fourteen-barrel horizontal fermenters (added later, in 1994), and twelve seven-barrel grundy cellar tanks. Originally, the Portsmouth Brewery opened with beer recipes from Northampton - Pale Ale, Old Brown Dog, Weizenheimer, Black Cat Stout, Blonde Ale, Golden and Amber Lagers - and these still comprise the core of the Brewery's full-time beers today. However, over the years, successive brewers have contributed many outstanding seasonal and specialty beers to the list.  All of the beers served at the Portsmouth Brewery are brewed right here on premise, with the exception of those beers, such as Shoals Pale Ale and Portsmouth Lager, brewed at Smuttynose Brewing Company, our sister company.\",\n",
       "  'website': 'http://www.portsmouthbrewery.com/',\n",
       "  'established': '1991',\n",
       "  'isOrganic': 'N',\n",
       "  'images': {'icon': 'https://brewerydb-images.s3.amazonaws.com/brewery/4F7QA9/upload_cq3hVs-icon.png',\n",
       "   'medium': 'https://brewerydb-images.s3.amazonaws.com/brewery/4F7QA9/upload_cq3hVs-medium.png',\n",
       "   'large': 'https://brewerydb-images.s3.amazonaws.com/brewery/4F7QA9/upload_cq3hVs-large.png',\n",
       "   'squareMedium': 'https://brewerydb-images.s3.amazonaws.com/brewery/4F7QA9/upload_cq3hVs-squareMedium.png',\n",
       "   'squareLarge': 'https://brewerydb-images.s3.amazonaws.com/brewery/4F7QA9/upload_cq3hVs-squareLarge.png'},\n",
       "  'status': 'verified',\n",
       "  'statusDisplay': 'Verified',\n",
       "  'createDate': '2012-01-03 02:42:06',\n",
       "  'updateDate': '2018-11-02 02:15:01',\n",
       "  'isMassOwned': 'N',\n",
       "  'isInBusiness': 'Y',\n",
       "  'isVerified': 'N'},\n",
       " {'id': 'nHLlnK',\n",
       "  'name': 'Sierra Nevada Brewing Company',\n",
       "  'nameShortDisplay': 'Sierra Nevada',\n",
       "  'description': \"The Sierra Nevada Brewing Company was established in 1980 by homebrewers Ken Grossman and Paul Camusi. Camusi retired in 1998 and sold his share in the company to Grossman.\\r\\n\\r\\nLocated in Chico, California, Sierra Nevada Brewing is one of the most popular craft breweries currently operating in the United States. Its Pale Ale is world renowned, and the brewery produces almost 700,000 barrels of beer per year. Sierra Nevada's Pale Ale is the second best-selling craft beer in the United States, behind the Boston Beer Company's Samuel Adams Boston Lager.\\r\\n\\r\\nSierra Nevada's specialty brews include the winter seasonal Celebration, which is similar to the pale ale, but hoppier; and Summerfest, a lager which is citrusy and sunny.\",\n",
       "  'website': 'http://www.sierranevada.com/',\n",
       "  'established': '1980',\n",
       "  'isOrganic': 'N',\n",
       "  'images': {'icon': 'https://brewerydb-images.s3.amazonaws.com/brewery/nHLlnK/upload_IClwuZ-icon.png',\n",
       "   'medium': 'https://brewerydb-images.s3.amazonaws.com/brewery/nHLlnK/upload_IClwuZ-medium.png',\n",
       "   'large': 'https://brewerydb-images.s3.amazonaws.com/brewery/nHLlnK/upload_IClwuZ-large.png',\n",
       "   'squareMedium': 'https://brewerydb-images.s3.amazonaws.com/brewery/nHLlnK/upload_IClwuZ-squareMedium.png',\n",
       "   'squareLarge': 'https://brewerydb-images.s3.amazonaws.com/brewery/nHLlnK/upload_IClwuZ-squareLarge.png'},\n",
       "  'status': 'verified',\n",
       "  'statusDisplay': 'Verified',\n",
       "  'createDate': '2012-01-03 02:42:08',\n",
       "  'updateDate': '2018-11-02 02:15:01',\n",
       "  'isMassOwned': 'N',\n",
       "  'isInBusiness': 'Y',\n",
       "  'isVerified': 'N'},\n",
       " {'id': 'TMc6H2',\n",
       "  'name': 'SweetWater Brewing Company',\n",
       "  'nameShortDisplay': 'Sweetwater',\n",
       "  'description': 'February 17, 1997 marked the official beginning of SweetWater Brewery, and a new style of brewing and selling beer in Atlanta as the boys wandered around Atlanta in an old van with Freddy\\'s dog Badger. After ending up on the wrong side of the tracks a few times, they were finally pointed in the direction of Virginia-Highlands and found a few bars willing to take a chance on them. \"We\\'ll give you a shot as long as your dog stops begging for leftovers on our patio\" was the cautious approval they needed to get the brand rolling.\\r\\n\\r\\nSweetWater\\'s second and current location is in Midtown Atlanta, adjacent to Ansley Park, in the Armour Circle Industrial Park just off of Piedmont and Monroe. The boys saved all of their pennies to buy the 25,000 square feet of brewing goodness and smack in the middle of all the action. Since the company began we\\'ve wanted to be closer to our homes, the bars and stores that sell our beer, and all the good folks that drink it. Fortunately seven years of great growth gave the company that opportunity. We learned a lot from that location and left all those mistakes behind as we built our new home. SweetWater Brewing Company has been here since 2004 and it feels good to be settled in. Our new home has enough capacity to brew 100,000 barrels of beer a year (A few more years at this rate.)',\n",
       "  'website': 'http://www.sweetwaterbrew.com/',\n",
       "  'established': '1997',\n",
       "  'isOrganic': 'N',\n",
       "  'images': {'icon': 'https://brewerydb-images.s3.amazonaws.com/brewery/TMc6H2/upload_3il9e7-icon.png',\n",
       "   'medium': 'https://brewerydb-images.s3.amazonaws.com/brewery/TMc6H2/upload_3il9e7-medium.png',\n",
       "   'large': 'https://brewerydb-images.s3.amazonaws.com/brewery/TMc6H2/upload_3il9e7-large.png',\n",
       "   'squareMedium': 'https://brewerydb-images.s3.amazonaws.com/brewery/TMc6H2/upload_3il9e7-squareMedium.png',\n",
       "   'squareLarge': 'https://brewerydb-images.s3.amazonaws.com/brewery/TMc6H2/upload_3il9e7-squareLarge.png'},\n",
       "  'status': 'verified',\n",
       "  'statusDisplay': 'Verified',\n",
       "  'createDate': '2012-01-03 02:42:09',\n",
       "  'updateDate': '2018-11-02 02:15:01',\n",
       "  'isMassOwned': 'N',\n",
       "  'isInBusiness': 'Y',\n",
       "  'isVerified': 'N'},\n",
       " {'id': 'DifSi4',\n",
       "  'name': 'Wachusett Brewing Company',\n",
       "  'nameShortDisplay': 'Wachusett',\n",
       "  'description': 'Wachusett Brewing Company was founded in 1994 by 3 Massachusetts college buddies who developed a significant appreciation for craft beer during their adventures of biking, canoeing and hiking around New England.  Armed with a “we can do this” attitude, the three cast off from their careers in engineering and biology to pursue their passion to make great beer.\\r\\n\\r\\nToday, Wachusett has grown to become one of the largest breweries in Northeast with a diverse and award-winning portfolio of ales and lagers that are still made with the same “we can do this” attitude that started the brewery over 20 years ago.\\r\\n\\r\\nCome visit us at The Brew Yard located at our brewery in Westminster MA to learn more about our story and sample our wide variety of beers.   We hope to see you soon!',\n",
       "  'website': 'http://www.wachusettbrew.com/',\n",
       "  'established': '1994',\n",
       "  'isOrganic': 'N',\n",
       "  'images': {'icon': 'https://brewerydb-images.s3.amazonaws.com/brewery/DifSi4/upload_cZa1L7-icon.png',\n",
       "   'medium': 'https://brewerydb-images.s3.amazonaws.com/brewery/DifSi4/upload_cZa1L7-medium.png',\n",
       "   'large': 'https://brewerydb-images.s3.amazonaws.com/brewery/DifSi4/upload_cZa1L7-large.png',\n",
       "   'squareMedium': 'https://brewerydb-images.s3.amazonaws.com/brewery/DifSi4/upload_cZa1L7-squareMedium.png',\n",
       "   'squareLarge': 'https://brewerydb-images.s3.amazonaws.com/brewery/DifSi4/upload_cZa1L7-squareLarge.png'},\n",
       "  'status': 'verified',\n",
       "  'statusDisplay': 'Verified',\n",
       "  'createDate': '2012-01-03 02:42:12',\n",
       "  'updateDate': '2018-11-02 02:15:01',\n",
       "  'isMassOwned': 'N',\n",
       "  'isInBusiness': 'Y',\n",
       "  'isVerified': 'N'},\n",
       " {'id': 'VEY3Xa',\n",
       "  'name': 'Zero Gravity Craft Brewery',\n",
       "  'nameShortDisplay': 'Zero Gravity Craft',\n",
       "  'description': \"Superior craft beer out of Burlington, Vermont since 2004. Visit us at our original brewpub location located at American Flatbread, or our more recent brewery and tasting room located in Burlington's South End Arts District.\",\n",
       "  'website': 'http://www.zerogravitybeer.com/',\n",
       "  'established': '2004',\n",
       "  'isOrganic': 'N',\n",
       "  'images': {'icon': 'https://brewerydb-images.s3.amazonaws.com/brewery/VEY3Xa/upload_Pr40Yo-icon.png',\n",
       "   'medium': 'https://brewerydb-images.s3.amazonaws.com/brewery/VEY3Xa/upload_Pr40Yo-medium.png',\n",
       "   'large': 'https://brewerydb-images.s3.amazonaws.com/brewery/VEY3Xa/upload_Pr40Yo-large.png',\n",
       "   'squareMedium': 'https://brewerydb-images.s3.amazonaws.com/brewery/VEY3Xa/upload_Pr40Yo-squareMedium.png',\n",
       "   'squareLarge': 'https://brewerydb-images.s3.amazonaws.com/brewery/VEY3Xa/upload_Pr40Yo-squareLarge.png'},\n",
       "  'status': 'verified',\n",
       "  'statusDisplay': 'Verified',\n",
       "  'createDate': '2012-01-03 02:42:13',\n",
       "  'updateDate': '2018-11-02 02:15:01',\n",
       "  'isMassOwned': 'N',\n",
       "  'isInBusiness': 'Y',\n",
       "  'isVerified': 'N'}]"
      ]
     },
     "execution_count": 11,
     "metadata": {},
     "output_type": "execute_result"
    }
   ],
   "source": [
    "brewerydata['data']"
   ]
  },
  {
   "cell_type": "code",
   "execution_count": 12,
   "metadata": {},
   "outputs": [
    {
     "data": {
      "text/plain": [
       "'success'"
      ]
     },
     "execution_count": 12,
     "metadata": {},
     "output_type": "execute_result"
    }
   ],
   "source": [
    "brewerydata['status']"
   ]
  },
  {
   "cell_type": "code",
   "execution_count": 13,
   "metadata": {},
   "outputs": [
    {
     "data": {
      "text/plain": [
       "list"
      ]
     },
     "execution_count": 13,
     "metadata": {},
     "output_type": "execute_result"
    }
   ],
   "source": [
    "type(brewerydata['data'])"
   ]
  },
  {
   "cell_type": "code",
   "execution_count": 14,
   "metadata": {},
   "outputs": [
    {
     "data": {
      "text/plain": [
       "19"
      ]
     },
     "execution_count": 14,
     "metadata": {},
     "output_type": "execute_result"
    }
   ],
   "source": [
    "len(brewerydata['data'])"
   ]
  },
  {
   "cell_type": "code",
   "execution_count": 15,
   "metadata": {},
   "outputs": [
    {
     "data": {
      "text/plain": [
       "{'id': 'BznahA',\n",
       " 'name': 'Anheuser-Busch InBev',\n",
       " 'nameShortDisplay': 'Anheuser-Busch InBev',\n",
       " 'description': \"Anheuser-Busch operates 12 breweries in the United States, 14 in China and one in the United Kingdom. Anheuser-Busch's operations and resources are focused on adding to life's enjoyment not only through the responsible consumption of beer by adults, but through theme park entertainment and packaging.  In the United States, the company holds a 48.5 percent share of U.S. beer sales. Worldwide, Anheuser-Busch's beer sales volume was 128.4 million barrels in 2007.  The St. Louis-based company's subsidiaries include one of the largest U.S. manufacturers of aluminum beverage containers and one of the world's largest recyclers of aluminum beverage cans. Anheuser-Busch also has interests in malt production, rice milling, real estate development, turf farming, metalized and paper label printing, bottle production and transportation services.\",\n",
       " 'website': 'http://www.anheuser-busch.com/',\n",
       " 'established': '1852',\n",
       " 'isOrganic': 'N',\n",
       " 'images': {'icon': 'https://brewerydb-images.s3.amazonaws.com/brewery/BznahA/upload_0FkKKl-icon.png',\n",
       "  'medium': 'https://brewerydb-images.s3.amazonaws.com/brewery/BznahA/upload_0FkKKl-medium.png',\n",
       "  'large': 'https://brewerydb-images.s3.amazonaws.com/brewery/BznahA/upload_0FkKKl-large.png',\n",
       "  'squareMedium': 'https://brewerydb-images.s3.amazonaws.com/brewery/BznahA/upload_0FkKKl-squareMedium.png',\n",
       "  'squareLarge': 'https://brewerydb-images.s3.amazonaws.com/brewery/BznahA/upload_0FkKKl-squareLarge.png'},\n",
       " 'status': 'verified',\n",
       " 'statusDisplay': 'Verified',\n",
       " 'createDate': '2012-01-03 02:41:44',\n",
       " 'updateDate': '2018-11-02 02:15:01',\n",
       " 'isMassOwned': 'Y',\n",
       " 'isInBusiness': 'Y',\n",
       " 'isVerified': 'N'}"
      ]
     },
     "execution_count": 15,
     "metadata": {},
     "output_type": "execute_result"
    }
   ],
   "source": [
    "brewerydata['data'][0]"
   ]
  },
  {
   "cell_type": "code",
   "execution_count": 16,
   "metadata": {},
   "outputs": [
    {
     "data": {
      "text/plain": [
       "dict"
      ]
     },
     "execution_count": 16,
     "metadata": {},
     "output_type": "execute_result"
    }
   ],
   "source": [
    "type(brewerydata['data'][0])"
   ]
  },
  {
   "cell_type": "code",
   "execution_count": 17,
   "metadata": {},
   "outputs": [
    {
     "data": {
      "text/plain": [
       "{'id': 'rd8LRZ',\n",
       " 'name': 'Boston Beer Company (Samuel Adams)',\n",
       " 'nameShortDisplay': 'Boston Beer Company (Samuel Adams)',\n",
       " 'isOrganic': 'N',\n",
       " 'status': 'new_unverified',\n",
       " 'statusDisplay': 'New, Unverified',\n",
       " 'createDate': '2018-12-09 18:05:53',\n",
       " 'updateDate': '2018-12-09 18:05:53',\n",
       " 'isMassOwned': 'N',\n",
       " 'isInBusiness': 'Y',\n",
       " 'isVerified': 'N'}"
      ]
     },
     "execution_count": 17,
     "metadata": {},
     "output_type": "execute_result"
    }
   ],
   "source": [
    "brewerydata['data'][1]"
   ]
  },
  {
   "cell_type": "code",
   "execution_count": 18,
   "metadata": {},
   "outputs": [
    {
     "data": {
      "text/plain": [
       "dict_keys(['id', 'name', 'nameShortDisplay', 'description', 'website', 'established', 'isOrganic', 'images', 'status', 'statusDisplay', 'createDate', 'updateDate', 'isMassOwned', 'isInBusiness', 'isVerified'])"
      ]
     },
     "execution_count": 18,
     "metadata": {},
     "output_type": "execute_result"
    }
   ],
   "source": [
    "brewerydata['data'][0].keys()"
   ]
  },
  {
   "cell_type": "code",
   "execution_count": 19,
   "metadata": {},
   "outputs": [
    {
     "data": {
      "text/plain": [
       "dict_keys(['id', 'name', 'nameShortDisplay', 'isOrganic', 'status', 'statusDisplay', 'createDate', 'updateDate', 'isMassOwned', 'isInBusiness', 'isVerified'])"
      ]
     },
     "execution_count": 19,
     "metadata": {},
     "output_type": "execute_result"
    }
   ],
   "source": [
    "brewerydata['data'][1].keys()"
   ]
  },
  {
   "cell_type": "code",
   "execution_count": 20,
   "metadata": {},
   "outputs": [
    {
     "data": {
      "text/plain": [
       "'rd8LRZ'"
      ]
     },
     "execution_count": 20,
     "metadata": {},
     "output_type": "execute_result"
    }
   ],
   "source": [
    "brewerydata['data'][1]['id']"
   ]
  },
  {
   "cell_type": "code",
   "execution_count": 21,
   "metadata": {},
   "outputs": [
    {
     "data": {
      "text/plain": [
       "'Boston Beer Company (Samuel Adams)'"
      ]
     },
     "execution_count": 21,
     "metadata": {},
     "output_type": "execute_result"
    }
   ],
   "source": [
    "brewerydata['data'][1]['name']"
   ]
  },
  {
   "cell_type": "code",
   "execution_count": 22,
   "metadata": {},
   "outputs": [
    {
     "data": {
      "text/plain": [
       "'Boston Beer Company (Samuel Adams)'"
      ]
     },
     "execution_count": 22,
     "metadata": {},
     "output_type": "execute_result"
    }
   ],
   "source": [
    "brewerydata['data'][1]['nameShortDisplay']"
   ]
  },
  {
   "cell_type": "code",
   "execution_count": 23,
   "metadata": {},
   "outputs": [
    {
     "data": {
      "text/plain": [
       "'N'"
      ]
     },
     "execution_count": 23,
     "metadata": {},
     "output_type": "execute_result"
    }
   ],
   "source": [
    "brewerydata['data'][1]['isOrganic']"
   ]
  },
  {
   "cell_type": "code",
   "execution_count": 24,
   "metadata": {},
   "outputs": [
    {
     "data": {
      "text/plain": [
       "'new_unverified'"
      ]
     },
     "execution_count": 24,
     "metadata": {},
     "output_type": "execute_result"
    }
   ],
   "source": [
    "brewerydata['data'][1]['status']"
   ]
  },
  {
   "cell_type": "code",
   "execution_count": 25,
   "metadata": {},
   "outputs": [
    {
     "data": {
      "text/plain": [
       "'New, Unverified'"
      ]
     },
     "execution_count": 25,
     "metadata": {},
     "output_type": "execute_result"
    }
   ],
   "source": [
    "brewerydata['data'][1]['statusDisplay']"
   ]
  },
  {
   "cell_type": "code",
   "execution_count": 26,
   "metadata": {},
   "outputs": [
    {
     "data": {
      "text/plain": [
       "'2018-12-09 18:05:53'"
      ]
     },
     "execution_count": 26,
     "metadata": {},
     "output_type": "execute_result"
    }
   ],
   "source": [
    "brewerydata['data'][1]['createDate']"
   ]
  },
  {
   "cell_type": "code",
   "execution_count": 27,
   "metadata": {},
   "outputs": [
    {
     "data": {
      "text/plain": [
       "'2018-12-09 18:05:53'"
      ]
     },
     "execution_count": 27,
     "metadata": {},
     "output_type": "execute_result"
    }
   ],
   "source": [
    "brewerydata['data'][1]['updateDate']"
   ]
  },
  {
   "cell_type": "code",
   "execution_count": 28,
   "metadata": {},
   "outputs": [
    {
     "data": {
      "text/plain": [
       "'N'"
      ]
     },
     "execution_count": 28,
     "metadata": {},
     "output_type": "execute_result"
    }
   ],
   "source": [
    "brewerydata['data'][1]['isMassOwned']"
   ]
  },
  {
   "cell_type": "code",
   "execution_count": 29,
   "metadata": {},
   "outputs": [
    {
     "data": {
      "text/plain": [
       "'Y'"
      ]
     },
     "execution_count": 29,
     "metadata": {},
     "output_type": "execute_result"
    }
   ],
   "source": [
    "brewerydata['data'][1]['isInBusiness']"
   ]
  },
  {
   "cell_type": "code",
   "execution_count": 30,
   "metadata": {},
   "outputs": [
    {
     "data": {
      "text/plain": [
       "'N'"
      ]
     },
     "execution_count": 30,
     "metadata": {},
     "output_type": "execute_result"
    }
   ],
   "source": [
    "brewerydata['data'][1]['isVerified']"
   ]
  },
  {
   "cell_type": "code",
   "execution_count": 31,
   "metadata": {},
   "outputs": [],
   "source": [
    "brewery = brewerydata['data']"
   ]
  },
  {
   "cell_type": "code",
   "execution_count": 32,
   "metadata": {},
   "outputs": [],
   "source": [
    "brewery_info= {'id':[],\n",
    "              'name':[],\n",
    "              'established':[],\n",
    "              'status':[],\n",
    "              'isInBusiness':[],\n",
    "              'isMassOwned':[],\n",
    "              'isOrganic':[],\n",
    "              'website':[],\n",
    "              'description':[]}"
   ]
  },
  {
   "cell_type": "code",
   "execution_count": 33,
   "metadata": {},
   "outputs": [],
   "source": [
    "for brewery in brewery:\n",
    "    \n",
    "    for key in brewery_info.keys():\n",
    "        try:\n",
    "            brewery_info[key].append(brewery[key])\n",
    "        except KeyError:\n",
    "            brewery_info[key].append(np.nan)\n",
    "    \n",
    "    "
   ]
  },
  {
   "cell_type": "code",
   "execution_count": 34,
   "metadata": {},
   "outputs": [
    {
     "data": {
      "text/plain": [
       "['Anheuser-Busch InBev',\n",
       " 'Boston Beer Company (Samuel Adams)',\n",
       " 'Breckenridge Brewery',\n",
       " 'Brouwerij De Leite',\n",
       " 'Dock Street Brewery',\n",
       " 'Guinness',\n",
       " 'Harmon Brewing Company',\n",
       " 'Jackalope Brewing Company',\n",
       " 'Lagunitas Brewing Company',\n",
       " 'Last Name Brewing',\n",
       " 'Laughing Dog Brewing',\n",
       " 'Miller Brewing Company',\n",
       " 'New Holland Brewing Company',\n",
       " 'Oskar Blues Brewery',\n",
       " 'Portsmouth Brewery',\n",
       " 'Sierra Nevada Brewing Company',\n",
       " 'SweetWater Brewing Company',\n",
       " 'Wachusett Brewing Company',\n",
       " 'Zero Gravity Craft Brewery']"
      ]
     },
     "execution_count": 34,
     "metadata": {},
     "output_type": "execute_result"
    }
   ],
   "source": [
    "brewery_info['name']"
   ]
  },
  {
   "cell_type": "code",
   "execution_count": 35,
   "metadata": {},
   "outputs": [
    {
     "data": {
      "text/plain": [
       "['BznahA',\n",
       " 'rd8LRZ',\n",
       " 'IImUD9',\n",
       " 'uM2jeT',\n",
       " 'p3YrOa',\n",
       " 'HaPdSL',\n",
       " 'DMU2Kf',\n",
       " 'p1tFbP',\n",
       " 'nLsoQ9',\n",
       " '941OaA',\n",
       " 'yX6twV',\n",
       " 'hGFVYy',\n",
       " 'AqEUBQ',\n",
       " 'q6vJUK',\n",
       " '4F7QA9',\n",
       " 'nHLlnK',\n",
       " 'TMc6H2',\n",
       " 'DifSi4',\n",
       " 'VEY3Xa']"
      ]
     },
     "execution_count": 35,
     "metadata": {},
     "output_type": "execute_result"
    }
   ],
   "source": [
    "brewery_info['id']"
   ]
  },
  {
   "cell_type": "code",
   "execution_count": 36,
   "metadata": {},
   "outputs": [
    {
     "data": {
      "text/html": [
       "<div>\n",
       "<style scoped>\n",
       "    .dataframe tbody tr th:only-of-type {\n",
       "        vertical-align: middle;\n",
       "    }\n",
       "\n",
       "    .dataframe tbody tr th {\n",
       "        vertical-align: top;\n",
       "    }\n",
       "\n",
       "    .dataframe thead th {\n",
       "        text-align: right;\n",
       "    }\n",
       "</style>\n",
       "<table border=\"1\" class=\"dataframe\">\n",
       "  <thead>\n",
       "    <tr style=\"text-align: right;\">\n",
       "      <th></th>\n",
       "      <th>id</th>\n",
       "      <th>name</th>\n",
       "      <th>established</th>\n",
       "      <th>status</th>\n",
       "      <th>isInBusiness</th>\n",
       "      <th>isMassOwned</th>\n",
       "      <th>isOrganic</th>\n",
       "      <th>website</th>\n",
       "      <th>description</th>\n",
       "    </tr>\n",
       "  </thead>\n",
       "  <tbody>\n",
       "    <tr>\n",
       "      <td>0</td>\n",
       "      <td>BznahA</td>\n",
       "      <td>Anheuser-Busch InBev</td>\n",
       "      <td>1852</td>\n",
       "      <td>verified</td>\n",
       "      <td>Y</td>\n",
       "      <td>Y</td>\n",
       "      <td>N</td>\n",
       "      <td>http://www.anheuser-busch.com/</td>\n",
       "      <td>Anheuser-Busch operates 12 breweries in the Un...</td>\n",
       "    </tr>\n",
       "    <tr>\n",
       "      <td>1</td>\n",
       "      <td>rd8LRZ</td>\n",
       "      <td>Boston Beer Company (Samuel Adams)</td>\n",
       "      <td>NaN</td>\n",
       "      <td>new_unverified</td>\n",
       "      <td>Y</td>\n",
       "      <td>N</td>\n",
       "      <td>N</td>\n",
       "      <td>NaN</td>\n",
       "      <td>NaN</td>\n",
       "    </tr>\n",
       "    <tr>\n",
       "      <td>2</td>\n",
       "      <td>IImUD9</td>\n",
       "      <td>Breckenridge Brewery</td>\n",
       "      <td>1990</td>\n",
       "      <td>verified</td>\n",
       "      <td>Y</td>\n",
       "      <td>Y</td>\n",
       "      <td>N</td>\n",
       "      <td>http://www.breckbrew.com/</td>\n",
       "      <td>Breckenridge Brewery was founded in 1990 in Br...</td>\n",
       "    </tr>\n",
       "    <tr>\n",
       "      <td>3</td>\n",
       "      <td>uM2jeT</td>\n",
       "      <td>Brouwerij De Leite</td>\n",
       "      <td>2008</td>\n",
       "      <td>verified</td>\n",
       "      <td>Y</td>\n",
       "      <td>N</td>\n",
       "      <td>N</td>\n",
       "      <td>http://www.deleite.be/</td>\n",
       "      <td>Brewing since 1997.  Officially transformed in...</td>\n",
       "    </tr>\n",
       "    <tr>\n",
       "      <td>4</td>\n",
       "      <td>p3YrOa</td>\n",
       "      <td>Dock Street Brewery</td>\n",
       "      <td>1985</td>\n",
       "      <td>verified</td>\n",
       "      <td>Y</td>\n",
       "      <td>N</td>\n",
       "      <td>N</td>\n",
       "      <td>http://www.dockstreetbeer.com</td>\n",
       "      <td>Founded in 1985, Dock Street Brewing Co. was t...</td>\n",
       "    </tr>\n",
       "  </tbody>\n",
       "</table>\n",
       "</div>"
      ],
      "text/plain": [
       "       id                                name established          status  \\\n",
       "0  BznahA                Anheuser-Busch InBev        1852        verified   \n",
       "1  rd8LRZ  Boston Beer Company (Samuel Adams)         NaN  new_unverified   \n",
       "2  IImUD9                Breckenridge Brewery        1990        verified   \n",
       "3  uM2jeT                  Brouwerij De Leite        2008        verified   \n",
       "4  p3YrOa                 Dock Street Brewery        1985        verified   \n",
       "\n",
       "  isInBusiness isMassOwned isOrganic                         website  \\\n",
       "0            Y           Y         N  http://www.anheuser-busch.com/   \n",
       "1            Y           N         N                             NaN   \n",
       "2            Y           Y         N       http://www.breckbrew.com/   \n",
       "3            Y           N         N          http://www.deleite.be/   \n",
       "4            Y           N         N   http://www.dockstreetbeer.com   \n",
       "\n",
       "                                         description  \n",
       "0  Anheuser-Busch operates 12 breweries in the Un...  \n",
       "1                                                NaN  \n",
       "2  Breckenridge Brewery was founded in 1990 in Br...  \n",
       "3  Brewing since 1997.  Officially transformed in...  \n",
       "4  Founded in 1985, Dock Street Brewing Co. was t...  "
      ]
     },
     "execution_count": 36,
     "metadata": {},
     "output_type": "execute_result"
    }
   ],
   "source": [
    "brewery_df = pd.DataFrame(data=brewery_info)\n",
    "brewery_df.head()"
   ]
  },
  {
   "cell_type": "code",
   "execution_count": 37,
   "metadata": {},
   "outputs": [
    {
     "data": {
      "text/html": [
       "<div>\n",
       "<style scoped>\n",
       "    .dataframe tbody tr th:only-of-type {\n",
       "        vertical-align: middle;\n",
       "    }\n",
       "\n",
       "    .dataframe tbody tr th {\n",
       "        vertical-align: top;\n",
       "    }\n",
       "\n",
       "    .dataframe thead th {\n",
       "        text-align: right;\n",
       "    }\n",
       "</style>\n",
       "<table border=\"1\" class=\"dataframe\">\n",
       "  <thead>\n",
       "    <tr style=\"text-align: right;\">\n",
       "      <th></th>\n",
       "      <th>id</th>\n",
       "      <th>name</th>\n",
       "      <th>established</th>\n",
       "      <th>status</th>\n",
       "      <th>isInBusiness</th>\n",
       "      <th>isMassOwned</th>\n",
       "      <th>isOrganic</th>\n",
       "      <th>website</th>\n",
       "      <th>description</th>\n",
       "    </tr>\n",
       "  </thead>\n",
       "  <tbody>\n",
       "    <tr>\n",
       "      <td>0</td>\n",
       "      <td>BznahA</td>\n",
       "      <td>Anheuser-Busch InBev</td>\n",
       "      <td>1852</td>\n",
       "      <td>verified</td>\n",
       "      <td>Y</td>\n",
       "      <td>Y</td>\n",
       "      <td>N</td>\n",
       "      <td>http://www.anheuser-busch.com/</td>\n",
       "      <td>Anheuser-Busch operates 12 breweries in the Un...</td>\n",
       "    </tr>\n",
       "    <tr>\n",
       "      <td>1</td>\n",
       "      <td>rd8LRZ</td>\n",
       "      <td>Boston Beer Company (Samuel Adams)</td>\n",
       "      <td>NaN</td>\n",
       "      <td>new_unverified</td>\n",
       "      <td>Y</td>\n",
       "      <td>N</td>\n",
       "      <td>N</td>\n",
       "      <td>NaN</td>\n",
       "      <td>NaN</td>\n",
       "    </tr>\n",
       "    <tr>\n",
       "      <td>2</td>\n",
       "      <td>IImUD9</td>\n",
       "      <td>Breckenridge Brewery</td>\n",
       "      <td>1990</td>\n",
       "      <td>verified</td>\n",
       "      <td>Y</td>\n",
       "      <td>Y</td>\n",
       "      <td>N</td>\n",
       "      <td>http://www.breckbrew.com/</td>\n",
       "      <td>Breckenridge Brewery was founded in 1990 in Br...</td>\n",
       "    </tr>\n",
       "    <tr>\n",
       "      <td>3</td>\n",
       "      <td>uM2jeT</td>\n",
       "      <td>Brouwerij De Leite</td>\n",
       "      <td>2008</td>\n",
       "      <td>verified</td>\n",
       "      <td>Y</td>\n",
       "      <td>N</td>\n",
       "      <td>N</td>\n",
       "      <td>http://www.deleite.be/</td>\n",
       "      <td>Brewing since 1997.  Officially transformed in...</td>\n",
       "    </tr>\n",
       "    <tr>\n",
       "      <td>4</td>\n",
       "      <td>p3YrOa</td>\n",
       "      <td>Dock Street Brewery</td>\n",
       "      <td>1985</td>\n",
       "      <td>verified</td>\n",
       "      <td>Y</td>\n",
       "      <td>N</td>\n",
       "      <td>N</td>\n",
       "      <td>http://www.dockstreetbeer.com</td>\n",
       "      <td>Founded in 1985, Dock Street Brewing Co. was t...</td>\n",
       "    </tr>\n",
       "    <tr>\n",
       "      <td>5</td>\n",
       "      <td>HaPdSL</td>\n",
       "      <td>Guinness</td>\n",
       "      <td>1759</td>\n",
       "      <td>verified</td>\n",
       "      <td>Y</td>\n",
       "      <td>Y</td>\n",
       "      <td>N</td>\n",
       "      <td>http://www.guinness.com/</td>\n",
       "      <td>St. James's Gate Brewery (Irish: Grúdlann Ghea...</td>\n",
       "    </tr>\n",
       "    <tr>\n",
       "      <td>6</td>\n",
       "      <td>DMU2Kf</td>\n",
       "      <td>Harmon Brewing Company</td>\n",
       "      <td>NaN</td>\n",
       "      <td>verified</td>\n",
       "      <td>Y</td>\n",
       "      <td>N</td>\n",
       "      <td>N</td>\n",
       "      <td>http://harmonbrewingco.com/</td>\n",
       "      <td>This 15 barrel microbrewery and restaurant is ...</td>\n",
       "    </tr>\n",
       "    <tr>\n",
       "      <td>7</td>\n",
       "      <td>p1tFbP</td>\n",
       "      <td>Jackalope Brewing Company</td>\n",
       "      <td>2011</td>\n",
       "      <td>verified</td>\n",
       "      <td>Y</td>\n",
       "      <td>N</td>\n",
       "      <td>N</td>\n",
       "      <td>http://www.jackalopebrew.com/</td>\n",
       "      <td>Jackalope Brewing Company is owned by Bailey S...</td>\n",
       "    </tr>\n",
       "    <tr>\n",
       "      <td>8</td>\n",
       "      <td>nLsoQ9</td>\n",
       "      <td>Lagunitas Brewing Company</td>\n",
       "      <td>1993</td>\n",
       "      <td>verified</td>\n",
       "      <td>Y</td>\n",
       "      <td>Y</td>\n",
       "      <td>N</td>\n",
       "      <td>http://www.lagunitas.com/</td>\n",
       "      <td>From our earliest days of striving to make con...</td>\n",
       "    </tr>\n",
       "    <tr>\n",
       "      <td>9</td>\n",
       "      <td>941OaA</td>\n",
       "      <td>Last Name Brewing</td>\n",
       "      <td>2003</td>\n",
       "      <td>verified</td>\n",
       "      <td>Y</td>\n",
       "      <td>N</td>\n",
       "      <td>N</td>\n",
       "      <td>http://www.lastnamebrewing.com/</td>\n",
       "      <td>Last Name Brewing is a craft brewery and tap r...</td>\n",
       "    </tr>\n",
       "  </tbody>\n",
       "</table>\n",
       "</div>"
      ],
      "text/plain": [
       "       id                                name established          status  \\\n",
       "0  BznahA                Anheuser-Busch InBev        1852        verified   \n",
       "1  rd8LRZ  Boston Beer Company (Samuel Adams)         NaN  new_unverified   \n",
       "2  IImUD9                Breckenridge Brewery        1990        verified   \n",
       "3  uM2jeT                  Brouwerij De Leite        2008        verified   \n",
       "4  p3YrOa                 Dock Street Brewery        1985        verified   \n",
       "5  HaPdSL                            Guinness        1759        verified   \n",
       "6  DMU2Kf              Harmon Brewing Company         NaN        verified   \n",
       "7  p1tFbP           Jackalope Brewing Company        2011        verified   \n",
       "8  nLsoQ9           Lagunitas Brewing Company        1993        verified   \n",
       "9  941OaA                   Last Name Brewing        2003        verified   \n",
       "\n",
       "  isInBusiness isMassOwned isOrganic                          website  \\\n",
       "0            Y           Y         N   http://www.anheuser-busch.com/   \n",
       "1            Y           N         N                              NaN   \n",
       "2            Y           Y         N        http://www.breckbrew.com/   \n",
       "3            Y           N         N           http://www.deleite.be/   \n",
       "4            Y           N         N    http://www.dockstreetbeer.com   \n",
       "5            Y           Y         N         http://www.guinness.com/   \n",
       "6            Y           N         N      http://harmonbrewingco.com/   \n",
       "7            Y           N         N    http://www.jackalopebrew.com/   \n",
       "8            Y           Y         N        http://www.lagunitas.com/   \n",
       "9            Y           N         N  http://www.lastnamebrewing.com/   \n",
       "\n",
       "                                         description  \n",
       "0  Anheuser-Busch operates 12 breweries in the Un...  \n",
       "1                                                NaN  \n",
       "2  Breckenridge Brewery was founded in 1990 in Br...  \n",
       "3  Brewing since 1997.  Officially transformed in...  \n",
       "4  Founded in 1985, Dock Street Brewing Co. was t...  \n",
       "5  St. James's Gate Brewery (Irish: Grúdlann Ghea...  \n",
       "6  This 15 barrel microbrewery and restaurant is ...  \n",
       "7  Jackalope Brewing Company is owned by Bailey S...  \n",
       "8  From our earliest days of striving to make con...  \n",
       "9  Last Name Brewing is a craft brewery and tap r...  "
      ]
     },
     "execution_count": 37,
     "metadata": {},
     "output_type": "execute_result"
    }
   ],
   "source": [
    "brewery_df.head(10)"
   ]
  },
  {
   "cell_type": "code",
   "execution_count": null,
   "metadata": {},
   "outputs": [],
   "source": []
  }
 ],
 "metadata": {
  "kernelspec": {
   "display_name": "Python 3",
   "language": "python",
   "name": "python3"
  },
  "language_info": {
   "codemirror_mode": {
    "name": "ipython",
    "version": 3
   },
   "file_extension": ".py",
   "mimetype": "text/x-python",
   "name": "python",
   "nbconvert_exporter": "python",
   "pygments_lexer": "ipython3",
   "version": "3.7.4"
  }
 },
 "nbformat": 4,
 "nbformat_minor": 2
}
